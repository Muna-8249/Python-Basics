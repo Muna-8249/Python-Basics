{
  "nbformat": 4,
  "nbformat_minor": 0,
  "metadata": {
    "colab": {
      "provenance": []
    },
    "kernelspec": {
      "name": "python3",
      "display_name": "Python 3"
    },
    "language_info": {
      "name": "python"
    }
  },
  "cells": [
    {
      "cell_type": "markdown",
      "source": [
        "1. **What is Python, and why is it popular?**\n",
        "   - Pyhhon is a high level programming language that is widely use in web application,software development, data science and machine learning. Developer use python for creating interaction for a computer to follow.\n",
        "\n",
        "    Python is popular beacause some key reasons:\n",
        "\n",
        "    i)Easy to learn and use\n",
        "    \n",
        "    ii)Rich eco system of Libraries\n",
        "\n",
        "    iii)Large community support\n",
        "\n",
        "    iv)Scalability and Versatility  \n",
        "\n",
        "    V)Open source\n",
        "\n",
        "   \n",
        "\n",
        " 2. **What is an interpreter in Python?**\n",
        "\n",
        "  - An Interpreter in Python is a program that reads and executes directly python code line by line. Python interpreter reads one line at atime and translate that into machine understandable instruction and executes it immediatly.\n",
        "\n",
        "\n",
        "3.  **What are Pre-defined keywords in Python?**\n",
        "\n",
        "  - Pre-defined keywords are special reserved words in python that have specific meanings and uses. They can not be used as variable names.\n",
        "  For example: - if, else, for, while, def, return, True, False etc.\n",
        "\n",
        "\n",
        "4.  **Can keywords be used as varible names?**\n",
        "\n",
        "  - No, keywords can't be used as variable names because keywords are reserved words that hold a special meaning and have specific purposes.\n",
        "\n",
        "5.  **What is mutability in Python?**\n",
        "\n",
        "  - Mutability referces to the ability of an object to be modified of changed after it created without creating a new object in memory."
      ],
      "metadata": {
        "id": "lQmya-6HnXf0"
      }
    },
    {
      "cell_type": "code",
      "source": [
        "# For Example:\n",
        "list1 = [1, 2, 3, 4]\n",
        "list1.append(5)\n",
        "print(list1)"
      ],
      "metadata": {
        "colab": {
          "base_uri": "https://localhost:8080/"
        },
        "id": "Iin7ROz-M3LQ",
        "outputId": "211b774f-2564-41d8-f9da-e3bc44ece0a8"
      },
      "execution_count": null,
      "outputs": [
        {
          "output_type": "stream",
          "name": "stdout",
          "text": [
            "[1, 2, 3, 4, 5]\n"
          ]
        }
      ]
    },
    {
      "cell_type": "markdown",
      "source": [
        "6.  **Why are list mutable, but tuples are immutable?*\n",
        "\n",
        "  - List are designed to be flexible containers,it allows to users to add, remove and modify the element as per requirement.\n",
        "  - On the other hand tuple are designed  for fixed data, user can't change its elements after creation for ensuring data safety in some situation.\n",
        "\n",
        "7. **What is the difference between \"==\" and \"is operator in python?\"**\n",
        "\n",
        "    - in python \"==\" called as Equality Operator, it checks if two variables hacve the same value even if they are different objects in memory, if their value are equal, == return True.\n",
        "    - Similarly \"is\" called as Identity operator, it checks if two variables point to the exact same object. if value are same but they are stored in different objects, then it returns False.\n",
        "\n",
        "8.  **What are logical operator in python?**\n",
        "\n",
        "  - In python logical operator  are used to combined or modify boolean expressions.\n",
        "\n",
        "    1. and operator - It returns True if both operator are True, otherwise it returns false.\n",
        "    2. or operator - It returns if atleast one operators is True, it return False if both operators are False.\n",
        "    3. It reverse the boolean value  of its operand\n",
        "\n",
        "9.  **Wtat is type casting in python?**\n",
        "\n",
        "    - Type casting means converting one data type to another. This is usefull when we need to perform operations between different types. We can convert the data type to another using two method:-\n",
        "        1.Implicit\n",
        "        2.Explicit\n",
        "\n",
        "10. **What is the difference between Implicit and Explicit type casting?**\n",
        "\n",
        "  - Implicit and Explicit type casting are both involve in changing a variable data types to anather. In Implicit type casting system automatically converts a value from one data type to another without losses of information.While Explicit type casting converts avalue using a cast operator by the developer(like-int, float, str etc).\n",
        "\n",
        "11. **What is the purpose of conditional statements in python?**\n",
        "\n",
        "  - The purpose of conditional statements in python is to control the flow of execution in a programme based on wether certain condition are met.\n",
        "aspecially, conjditional statements allow for:\n",
        "    1. ecision making\n",
        "    2. controlling programme flow\n",
        "    3. Handling differentScenarios\n",
        "    4. Dynamic behaviour etc.\n",
        "\n",
        "12. **How does the elif statement work?**\n",
        "\n",
        "    - The elif statement is short for \"else if\", it is used to check multiple conditions one after another after an initian \"if\" condition. Python ckecks the conditions top to bottom, as soon as one condition is True , it execute that block and skip the rest. If all the conditions are False the optional else block will be executed."
      ],
      "metadata": {
        "id": "DZlwqToVNkpx"
      }
    },
    {
      "cell_type": "code",
      "source": [
        "# For Example\n",
        "\n",
        "num = 50\n",
        "if num > 50:\n",
        "    print(\"The number is greater than 50\") # False\n",
        "elif num == 50:\n",
        "    print(\"The number is equal to 50\")# this statement is True, hence thi block of code will be executed and skips the rest conditions.\n",
        "elif num < 30:\n",
        "    print(\"The number is less than 50 but greater than 20\")\n",
        "else:\n",
        "    print(\"The number is less than 50\")"
      ],
      "metadata": {
        "colab": {
          "base_uri": "https://localhost:8080/"
        },
        "id": "lUrkR-MqzyFV",
        "outputId": "dbe3b5fb-1111-4f92-82a5-c8423ed63df8"
      },
      "execution_count": null,
      "outputs": [
        {
          "output_type": "stream",
          "name": "stdout",
          "text": [
            "The number is equal to 50\n"
          ]
        }
      ]
    },
    {
      "cell_type": "markdown",
      "source": [
        "13. **What is the difference between for and while loop?**\n",
        "\n",
        "    - The fundamental difference between for and while loops lies in their primary use cases and how they control iteration.\n",
        "\n",
        "    **for loop**\n",
        "\n",
        "    - It is designed for iterating over a sequence like a list, tuple, string, dictionary, and range or other iterable object.\n",
        "    - The loop automatically handles moving to the next item in the  sequence."
      ],
      "metadata": {
        "id": "XXMrpcha3nms"
      }
    },
    {
      "cell_type": "code",
      "source": [
        "# for example\n",
        "\n",
        "for i in range(5):\n",
        "    print(i)"
      ],
      "metadata": {
        "colab": {
          "base_uri": "https://localhost:8080/"
        },
        "id": "H_5uvwm07nhD",
        "outputId": "9d989109-1159-4cf6-92d9-d15962b25957"
      },
      "execution_count": null,
      "outputs": [
        {
          "output_type": "stream",
          "name": "stdout",
          "text": [
            "0\n",
            "1\n",
            "2\n",
            "3\n",
            "4\n"
          ]
        }
      ]
    },
    {
      "cell_type": "markdown",
      "source": [
        "   ** while loop**\n",
        "\n",
        "      - while loop designed for reapeating a block of code untill the condition remain True."
      ],
      "metadata": {
        "id": "we9lzBSn79Yl"
      }
    },
    {
      "cell_type": "code",
      "source": [
        "# for example\n",
        "\n",
        "count = 0\n",
        "while count < 5:\n",
        "    print(count)\n",
        "    count += 1"
      ],
      "metadata": {
        "colab": {
          "base_uri": "https://localhost:8080/"
        },
        "id": "ZrJefzri72Hr",
        "outputId": "3457029e-ee20-4b85-987b-d145a826c47c"
      },
      "execution_count": null,
      "outputs": [
        {
          "output_type": "stream",
          "name": "stdout",
          "text": [
            "0\n",
            "1\n",
            "2\n",
            "3\n",
            "4\n"
          ]
        }
      ]
    },
    {
      "cell_type": "markdown",
      "source": [
        "14. **describe a scenario where a while loop is more suitable than a for loop.**\n",
        "\n",
        "    - A while loop is more suitable than a for loop when the number of iterations is unknown in advance and depends on a dynamic condition.\n",
        "    - Consider a scenario where a program needs to repeatedly prompt a user for input untill a valid entry is provided."
      ],
      "metadata": {
        "id": "CFrli_g791bT"
      }
    },
    {
      "cell_type": "code",
      "source": [
        "# for exampl\n",
        "correct_passward = \"padmalochan123\"\n",
        "user_input = \"\"\n",
        "\n",
        "while user_input != correct_passward:\n",
        "    user_input = input(\"Enter your passward: \")\n",
        "\n",
        "print(\"Login Successful\")"
      ],
      "metadata": {
        "colab": {
          "base_uri": "https://localhost:8080/"
        },
        "id": "LDAL1KPMAhFa",
        "outputId": "a0242752-76b1-46d4-af4b-e48a4cce676b"
      },
      "execution_count": null,
      "outputs": [
        {
          "output_type": "stream",
          "name": "stdout",
          "text": [
            "Enter your passward: Munna123\n",
            "Enter your passward: Keonjhar158\n",
            "Enter your passward: padmalochan123\n",
            "Login Successful\n"
          ]
        }
      ]
    },
    {
      "cell_type": "markdown",
      "source": [
        "    - A for loop would not work well here, because you dont know how many times the user will enter the wrong password.\n",
        "\n",
        "\n",
        "\n",
        "\n",
        "\n",
        "\n",
        "                                                  **Thank you **"
      ],
      "metadata": {
        "id": "PiMS55YdDiMC"
      }
    },
    {
      "cell_type": "code",
      "source": [],
      "metadata": {
        "id": "0yqkLhOQ9P_8"
      },
      "execution_count": null,
      "outputs": []
    },
    {
      "cell_type": "code",
      "source": [],
      "metadata": {
        "id": "R5CE4VA-0mjE"
      },
      "execution_count": null,
      "outputs": []
    },
    {
      "cell_type": "code",
      "source": [],
      "metadata": {
        "id": "Xxq7ByBFNciY"
      },
      "execution_count": null,
      "outputs": []
    },
    {
      "cell_type": "code",
      "source": [],
      "metadata": {
        "id": "q7V-LjIyNSOJ"
      },
      "execution_count": null,
      "outputs": []
    },
    {
      "cell_type": "code",
      "source": [],
      "metadata": {
        "id": "PuRKE-eHNL70"
      },
      "execution_count": null,
      "outputs": []
    }
  ]
}